{
 "cells": [
  {
   "cell_type": "code",
   "execution_count": null,
   "metadata": {},
   "outputs": [],
   "source": [
    "import numpy as np\n",
    "import numpy.typing as npt\n",
    "import matplotlib.pyplot as plt"
   ]
  },
  {
   "cell_type": "code",
   "execution_count": 2,
   "metadata": {},
   "outputs": [],
   "source": [
    "def vel(start_velocity: float, acceleration: float, time: npt.NDArray):\n",
    "    return acceleration * time + start_velocity"
   ]
  },
  {
   "cell_type": "code",
   "execution_count": null,
   "metadata": {},
   "outputs": [],
   "source": [
    "time = np.arange(0, 100, 0.1)\n",
    "plt.plot(time, vel(2, 1, time))\n",
    "plt.show()"
   ]
  },
  {
   "cell_type": "code",
   "execution_count": 36,
   "metadata": {},
   "outputs": [],
   "source": [
    "def demo_graphs(start_velocity: float, force_acc: float, seconds: int, k: float):\n",
    "    g = 9.81\n",
    "    mu = 0.3\n",
    "    delta_time = 0.1\n",
    "    time = np.arange(0, seconds, delta_time)\n",
    "    vel = np.zeros_like(time)\n",
    "    dist = np.zeros_like(time)\n",
    "    acc = np.zeros_like(time)\n",
    "    \n",
    "    vel[0] = start_velocity\n",
    "    acc[0] = force_acc -g*mu\n",
    "    for sec_index in range(0, time.shape[0] - 1):\n",
    "        if sec_index >= seconds/(delta_time*2):\n",
    "            force_acc = 0\n",
    "        acc[sec_index + 1]= force_acc - (vel[sec_index] >= 0)*g*mu - (k*vel[sec_index]**2)\n",
    "        vel[sec_index+1] = vel[sec_index] + acc[sec_index] * delta_time\n",
    "        dist[sec_index+1] = dist[sec_index] + vel[sec_index] * delta_time\n",
    "\n",
    "    plt.plot(time, acc)\n",
    "    plt.title(\"acceleration\")\n",
    "    plt.show()\n",
    "    plt.plot(time, vel)\n",
    "    plt.title(\"velocity\")\n",
    "    plt.show()\n",
    "    plt.plot(time, dist)\n",
    "    plt.title(\"distance\")\n",
    "    plt.show()"
   ]
  },
  {
   "cell_type": "code",
   "execution_count": null,
   "metadata": {},
   "outputs": [],
   "source": [
    "demo_graphs(0, 5, 250, 0.0001)"
   ]
  },
  {
   "cell_type": "code",
   "execution_count": null,
   "metadata": {},
   "outputs": [],
   "source": [
    "demo_graphs(400, 15, 250, 0.0001)\n"
   ]
  }
 ],
 "metadata": {
  "kernelspec": {
   "display_name": "movement-demo",
   "language": "python",
   "name": "python3"
  },
  "language_info": {
   "codemirror_mode": {
    "name": "ipython",
    "version": 3
   },
   "file_extension": ".py",
   "mimetype": "text/x-python",
   "name": "python",
   "nbconvert_exporter": "python",
   "pygments_lexer": "ipython3",
   "version": "3.12.3"
  }
 },
 "nbformat": 4,
 "nbformat_minor": 2
}
